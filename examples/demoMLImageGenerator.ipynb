{
 "cells": [
  {
   "cell_type": "code",
   "execution_count": null,
   "id": "635ad108",
   "metadata": {},
   "outputs": [],
   "source": [
    "%matplotlib notebook\n",
    "import pycinema\n",
    "\n",
    "## You will need to install PyTorch to be able to run this example.\n",
    "## Please use this link to install Pytorch: https://pytorch.org/get-started/locally/\n",
    "\n",
    "#############################\n",
    "## This example demonstrates how we can use CNN-based ML model trained on a set of input\n",
    "## parameters can be used to generate image-based visualizations for unknown input parameters\n",
    "## In this specific example, the model was trained with two view angle (phi and theta) parameters\n",
    "#############################\n",
    "\n",
    "## Create the instance of the filter\n",
    "mlfilter = pycinema.ImageGeneratorCNN()\n",
    "\n",
    "## Set input params same as was used during training\n",
    "######################################\n",
    "\n",
    "## Input trained model file\n",
    "mlfilter.inputs.Model.set('../data/MLModels/Model_MLImageGenerator_Isabel_1500.pth')\n",
    "mlfilter.inputs.Device.set('cpu')\n",
    "## Phi,Theta value for which the image will be generated\n",
    "mlfilter.inputs.Params.set([[10.0,30.0]])\n",
    "## number of input parameter in training set, in this case, 2 (phi and theta)\n",
    "mlfilter.inputs.VP.set(2)\n",
    "## Internal parameter for CNN, should be the same as was used during training\n",
    "mlfilter.inputs.VPO.set(256)\n",
    "## Internal parameter for CNN, should be the same as was used during training\n",
    "mlfilter.inputs.Channel.set(8)\n",
    "mlfilter.update()\n",
    "\n",
    "# Display Results\n",
    "image_viewer = pycinema.ImageViewer()\n",
    "image_viewer.inputs.images.set( mlfilter.outputs.Images )"
   ]
  }
 ],
 "metadata": {
  "kernelspec": {
   "display_name": "Python 3 (ipykernel)",
   "language": "python",
   "name": "python3"
  },
  "language_info": {
   "codemirror_mode": {
    "name": "ipython",
    "version": 3
   },
   "file_extension": ".py",
   "mimetype": "text/x-python",
   "name": "python",
   "nbconvert_exporter": "python",
   "pygments_lexer": "ipython3",
   "version": "3.8.15"
  }
 },
 "nbformat": 4,
 "nbformat_minor": 5
}
