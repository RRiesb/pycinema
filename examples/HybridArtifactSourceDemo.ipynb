{
 "cells": [
  {
   "cell_type": "code",
   "execution_count": null,
   "id": "5ac2778e",
   "metadata": {},
   "outputs": [],
   "source": [
    "%matplotlib notebook\n",
    "import pycinema\n",
    "\n",
    "#\n",
    "# demonstration of an artifact source that can satisfy any query, using\n",
    "# a combination of a Cinema database and an ML model\n",
    "#\n",
    "# An image from the database is surrounded by a BLACK border\n",
    "# An estimated image is surrounded by a RED border\n",
    "#\n",
    "\n",
    "# create the artifact source and point it to inputs\n",
    "source = pycinema.HybridArtifactSource();\n",
    "source.inputs.DBPath.set(\"../data/ML_ImageGenerator_Test.cdb\", False);\n",
    "source.inputs.ModelPath.set(\"../data/MLModels/Model_MLImageGenerator_Isabel_1500.pth\",False);\n",
    "\n",
    "# demonstrated different cases\n",
    "  # this image exists in the database\n",
    "db_params = [33.264,339.552]\n",
    "  # this image must be estimated\n",
    "est_params = [33.264,340]\n",
    "if True:\n",
    "    # Return an image from the database, or an estimated image, depending on input\n",
    "    # If an image is found in the database, return it. Else, return estimated\n",
    "    params = db_params\n",
    "    # params = est_params\n",
    "    source.inputs.Parameters.set(params, False)\n",
    "    source.update()\n",
    "    \n",
    "else:    \n",
    "    # Force the estimator to return a value, even if an image exists in the database\n",
    "    # This is the same input as the database image above, and demonstrates the accuracy\n",
    "    #   of the ML model for known images\n",
    "    source.inputs.Parameters.set(db_params, False)\n",
    "    source.inputs.ForceEstimator.set(True,False)\n",
    "    source.update()\n",
    "\n",
    "# Display Results\n",
    "image_viewer = pycinema.ImageViewer()\n",
    "image_viewer.inputs.images.set( source.outputs.Artifacts )"
   ]
  }
 ],
 "metadata": {
  "kernelspec": {
   "display_name": "Python 3 (ipykernel)",
   "language": "python",
   "name": "python3"
  },
  "language_info": {
   "codemirror_mode": {
    "name": "ipython",
    "version": 3
   },
   "file_extension": ".py",
   "mimetype": "text/x-python",
   "name": "python",
   "nbconvert_exporter": "python",
   "pygments_lexer": "ipython3",
   "version": "3.8.15"
  }
 },
 "nbformat": 4,
 "nbformat_minor": 5
}
