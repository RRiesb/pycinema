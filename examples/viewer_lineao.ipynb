{
 "cells": [
  {
   "cell_type": "code",
   "execution_count": 1,
   "id": "c2748187",
   "metadata": {
    "tags": []
   },
   "outputs": [
    {
     "ename": "Error",
     "evalue": "GLSL Compiler failed\n\nfragment_shader\n===============\n0(169) : error C0000: syntax error, unexpected floating point constant, expecting \"::\" at token \"<float-const>\"\n\n",
     "output_type": "error",
     "traceback": [
      "\u001b[1;31m---------------------------------------------------------------------------\u001b[0m",
      "\u001b[1;31mError\u001b[0m                                     Traceback (most recent call last)",
      "Cell \u001b[1;32mIn[1], line 4\u001b[0m\n\u001b[0;32m      1\u001b[0m get_ipython()\u001b[38;5;241m.\u001b[39mrun_line_magic(\u001b[38;5;124m'\u001b[39m\u001b[38;5;124mmatplotlib\u001b[39m\u001b[38;5;124m'\u001b[39m, \u001b[38;5;124m'\u001b[39m\u001b[38;5;124mnotebook\u001b[39m\u001b[38;5;124m'\u001b[39m)\n\u001b[0;32m      3\u001b[0m \u001b[38;5;28;01mimport\u001b[39;00m \u001b[38;5;21;01mpycinema\u001b[39;00m\n\u001b[1;32m----> 4\u001b[0m viewer \u001b[38;5;241m=\u001b[39m \u001b[43mpycinema\u001b[49m\u001b[38;5;241;43m.\u001b[39;49m\u001b[43mLineAOViewer\u001b[49m\u001b[43m(\u001b[49m\u001b[38;5;124;43m'\u001b[39;49m\u001b[38;5;124;43m../data/GroundWater.cdb\u001b[39;49m\u001b[38;5;124;43m'\u001b[39;49m\u001b[43m)\u001b[49m\n",
      "File \u001b[1;32m~\\AppData\\Local\\Programs\\Python\\Python311\\Lib\\site-packages\\pycinema\\LineAOViewer.py:76\u001b[0m, in \u001b[0;36mLineAOViewer.__init__\u001b[1;34m(self, path)\u001b[0m\n\u001b[0;32m     69\u001b[0m  \u001b[38;5;28mself\u001b[39m\u001b[38;5;241m.\u001b[39mcolorMapping\u001b[38;5;241m.\u001b[39minputs\u001b[38;5;241m.\u001b[39mnan\u001b[38;5;241m.\u001b[39mset(\u001b[38;5;28mself\u001b[39m\u001b[38;5;241m.\u001b[39mcolorMappingWidgets\u001b[38;5;241m.\u001b[39moutputs\u001b[38;5;241m.\u001b[39mnan,\u001b[38;5;28;01mFalse\u001b[39;00m)\n\u001b[0;32m     71\u001b[0m \u001b[38;5;66;03m# self.shaderIBS = ShaderIBS()\u001b[39;00m\n\u001b[0;32m     72\u001b[0m  \u001b[38;5;66;03m# self.shaderIBS.inputs.images.set(self.colorMapping.outputs.images,False)\u001b[39;00m\n\u001b[1;32m---> 76\u001b[0m  \u001b[38;5;28mself\u001b[39m\u001b[38;5;241m.\u001b[39mshaderLineAO \u001b[38;5;241m=\u001b[39m \u001b[43mShaderLineAO\u001b[49m\u001b[43m(\u001b[49m\u001b[43m)\u001b[49m\n\u001b[0;32m     77\u001b[0m  \u001b[38;5;28mself\u001b[39m\u001b[38;5;241m.\u001b[39mshaderLineAO\u001b[38;5;241m.\u001b[39minputs\u001b[38;5;241m.\u001b[39mimages\u001b[38;5;241m.\u001b[39mset(\u001b[38;5;28mself\u001b[39m\u001b[38;5;241m.\u001b[39mcolorMapping\u001b[38;5;241m.\u001b[39moutputs\u001b[38;5;241m.\u001b[39mimages,\u001b[38;5;28;01mFalse\u001b[39;00m)\n\u001b[0;32m     78\u001b[0m  \u001b[38;5;28mself\u001b[39m\u001b[38;5;241m.\u001b[39mshadingWidgetsContainer\u001b[38;5;241m.\u001b[39mchildren \u001b[38;5;241m=\u001b[39m [\n\u001b[0;32m     79\u001b[0m     \u001b[38;5;66;03m# NumberWidget(self.shaderIBS.inputs.radius, range=[0,1,0.01]).widget,\u001b[39;00m\n\u001b[0;32m     80\u001b[0m     \u001b[38;5;66;03m# NumberWidget(self.shaderIBS.inputs.samples, range=[1,256,1]).widget,\u001b[39;00m\n\u001b[1;32m   (...)\u001b[0m\n\u001b[0;32m     89\u001b[0m \n\u001b[0;32m     90\u001b[0m  ]\n",
      "File \u001b[1;32m~\\AppData\\Local\\Programs\\Python\\Python311\\Lib\\site-packages\\pycinema\\ShaderLineAO.py:8\u001b[0m, in \u001b[0;36mShaderLineAO.__init__\u001b[1;34m(self)\u001b[0m\n\u001b[0;32m      7\u001b[0m \u001b[38;5;28;01mdef\u001b[39;00m \u001b[38;5;21m__init__\u001b[39m(\u001b[38;5;28mself\u001b[39m):\n\u001b[1;32m----> 8\u001b[0m     \u001b[38;5;28;43msuper\u001b[39;49m\u001b[43m(\u001b[49m\u001b[43m)\u001b[49m\u001b[38;5;241;43m.\u001b[39;49m\u001b[38;5;21;43m__init__\u001b[39;49m\u001b[43m(\u001b[49m\u001b[43m[\u001b[49m\u001b[38;5;124;43m'\u001b[39;49m\u001b[38;5;124;43mrgbaTex\u001b[39;49m\u001b[38;5;124;43m'\u001b[39;49m\u001b[43m,\u001b[49m\u001b[38;5;124;43m'\u001b[39;49m\u001b[38;5;124;43mdepthTex\u001b[39;49m\u001b[38;5;124;43m'\u001b[39;49m\u001b[43m]\u001b[49m\u001b[43m)\u001b[49m\n\u001b[0;32m      9\u001b[0m     \u001b[38;5;28mself\u001b[39m\u001b[38;5;241m.\u001b[39maddInputPort(\u001b[38;5;124m\"\u001b[39m\u001b[38;5;124mimages\u001b[39m\u001b[38;5;124m\"\u001b[39m, [])\n\u001b[0;32m     10\u001b[0m     \u001b[38;5;28mself\u001b[39m\u001b[38;5;241m.\u001b[39maddInputPort(\u001b[38;5;124m\"\u001b[39m\u001b[38;5;124mradius\u001b[39m\u001b[38;5;124m\"\u001b[39m, \u001b[38;5;241m2.0\u001b[39m)\n",
      "File \u001b[1;32m~\\AppData\\Local\\Programs\\Python\\Python311\\Lib\\site-packages\\pycinema\\Shader.py:16\u001b[0m, in \u001b[0;36mShader.__init__\u001b[1;34m(self, textures, varyings)\u001b[0m\n\u001b[0;32m     13\u001b[0m \u001b[38;5;28msuper\u001b[39m()\u001b[38;5;241m.\u001b[39m\u001b[38;5;21m__init__\u001b[39m()\n\u001b[0;32m     15\u001b[0m \u001b[38;5;66;03m# program\u001b[39;00m\n\u001b[1;32m---> 16\u001b[0m \u001b[38;5;28mself\u001b[39m\u001b[38;5;241m.\u001b[39mprogram \u001b[38;5;241m=\u001b[39m \u001b[43mShader\u001b[49m\u001b[38;5;241;43m.\u001b[39;49m\u001b[43mctx\u001b[49m\u001b[38;5;241;43m.\u001b[39;49m\u001b[43mprogram\u001b[49m\u001b[43m(\u001b[49m\n\u001b[0;32m     17\u001b[0m \u001b[43m    \u001b[49m\u001b[43mvertex_shader\u001b[49m\u001b[38;5;241;43m=\u001b[39;49m\u001b[38;5;28;43mself\u001b[39;49m\u001b[38;5;241;43m.\u001b[39;49m\u001b[43mgetVertexShaderCode\u001b[49m\u001b[43m(\u001b[49m\u001b[43m)\u001b[49m\u001b[43m,\u001b[49m\n\u001b[0;32m     18\u001b[0m \u001b[43m    \u001b[49m\u001b[43mfragment_shader\u001b[49m\u001b[38;5;241;43m=\u001b[39;49m\u001b[38;5;28;43mself\u001b[39;49m\u001b[38;5;241;43m.\u001b[39;49m\u001b[43mgetFragmentShaderCode\u001b[49m\u001b[43m(\u001b[49m\u001b[43m)\u001b[49m\u001b[43m,\u001b[49m\n\u001b[0;32m     19\u001b[0m \u001b[43m    \u001b[49m\u001b[43mvaryings\u001b[49m\u001b[38;5;241;43m=\u001b[39;49m\u001b[43mvaryings\u001b[49m\n\u001b[0;32m     20\u001b[0m \u001b[43m\u001b[49m\u001b[43m)\u001b[49m\n\u001b[0;32m     22\u001b[0m \u001b[38;5;66;03m# textures\u001b[39;00m\n\u001b[0;32m     23\u001b[0m \u001b[38;5;28;01mfor\u001b[39;00m i, name \u001b[38;5;129;01min\u001b[39;00m \u001b[38;5;28menumerate\u001b[39m(textures):\n",
      "File \u001b[1;32m~\\AppData\\Local\\Programs\\Python\\Python311\\Lib\\site-packages\\moderngl\\__init__.py:1939\u001b[0m, in \u001b[0;36mContext.program\u001b[1;34m(self, vertex_shader, fragment_shader, geometry_shader, tess_control_shader, tess_evaluation_shader, varyings, fragment_outputs, varyings_capture_mode)\u001b[0m\n\u001b[0;32m   1936\u001b[0m     fragment_outputs \u001b[38;5;241m=\u001b[39m {}\n\u001b[0;32m   1938\u001b[0m res \u001b[38;5;241m=\u001b[39m Program\u001b[38;5;241m.\u001b[39m\u001b[38;5;21m__new__\u001b[39m(Program)\n\u001b[1;32m-> 1939\u001b[0m res\u001b[38;5;241m.\u001b[39mmglo, res\u001b[38;5;241m.\u001b[39m_members, res\u001b[38;5;241m.\u001b[39m_subroutines, res\u001b[38;5;241m.\u001b[39m_geom, res\u001b[38;5;241m.\u001b[39m_glo \u001b[38;5;241m=\u001b[39m \u001b[38;5;28;43mself\u001b[39;49m\u001b[38;5;241;43m.\u001b[39;49m\u001b[43mmglo\u001b[49m\u001b[38;5;241;43m.\u001b[39;49m\u001b[43mprogram\u001b[49m\u001b[43m(\u001b[49m\n\u001b[0;32m   1940\u001b[0m \u001b[43m    \u001b[49m\u001b[43mvertex_shader\u001b[49m\u001b[43m,\u001b[49m\u001b[43m \u001b[49m\u001b[43mfragment_shader\u001b[49m\u001b[43m,\u001b[49m\u001b[43m \u001b[49m\u001b[43mgeometry_shader\u001b[49m\u001b[43m,\u001b[49m\u001b[43m \u001b[49m\u001b[43mtess_control_shader\u001b[49m\u001b[43m,\u001b[49m\u001b[43m \u001b[49m\u001b[43mtess_evaluation_shader\u001b[49m\u001b[43m,\u001b[49m\n\u001b[0;32m   1941\u001b[0m \u001b[43m    \u001b[49m\u001b[43mvaryings\u001b[49m\u001b[43m,\u001b[49m\u001b[43m \u001b[49m\u001b[43mfragment_outputs\u001b[49m\u001b[43m,\u001b[49m\u001b[43m \u001b[49m\u001b[43mvaryings_capture_mode\u001b[49m\u001b[43m \u001b[49m\u001b[38;5;241;43m==\u001b[39;49m\u001b[43m \u001b[49m\u001b[38;5;124;43m'\u001b[39;49m\u001b[38;5;124;43minterleaved\u001b[39;49m\u001b[38;5;124;43m'\u001b[39;49m\n\u001b[0;32m   1942\u001b[0m \u001b[43m\u001b[49m\u001b[43m)\u001b[49m\n\u001b[0;32m   1944\u001b[0m res\u001b[38;5;241m.\u001b[39m_is_transform \u001b[38;5;241m=\u001b[39m fragment_shader \u001b[38;5;129;01mis\u001b[39;00m \u001b[38;5;28;01mNone\u001b[39;00m\n\u001b[0;32m   1945\u001b[0m res\u001b[38;5;241m.\u001b[39mctx \u001b[38;5;241m=\u001b[39m \u001b[38;5;28mself\u001b[39m\n",
      "\u001b[1;31mError\u001b[0m: GLSL Compiler failed\n\nfragment_shader\n===============\n0(169) : error C0000: syntax error, unexpected floating point constant, expecting \"::\" at token \"<float-const>\"\n\n"
     ]
    }
   ],
   "source": [
    "%matplotlib notebook\n",
    "\n",
    "import pycinema\n",
    "viewer = pycinema.LineAOViewer('../data/GroundWater.cdb')"
   ]
  },
  {
   "cell_type": "code",
   "execution_count": null,
   "id": "4514f8d4-43bc-4422-9581-09ba8f21e91d",
   "metadata": {},
   "outputs": [],
   "source": []
  }
 ],
 "metadata": {
  "kernelspec": {
   "display_name": "Python 3 (ipykernel)",
   "language": "python",
   "name": "python3"
  },
  "language_info": {
   "codemirror_mode": {
    "name": "ipython",
    "version": 3
   },
   "file_extension": ".py",
   "mimetype": "text/x-python",
   "name": "python",
   "nbconvert_exporter": "python",
   "pygments_lexer": "ipython3",
   "version": "3.11.4"
  }
 },
 "nbformat": 4,
 "nbformat_minor": 5
}
