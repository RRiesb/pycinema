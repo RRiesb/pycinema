{
 "cells": [
  {
   "cell_type": "code",
   "execution_count": 1,
   "id": "c2748187",
   "metadata": {
    "tags": []
   },
   "outputs": [
    {
     "ename": "AttributeError",
     "evalue": "'tuple' object has no attribute 'append'",
     "output_type": "error",
     "traceback": [
      "\u001b[0;31m---------------------------------------------------------------------------\u001b[0m",
      "\u001b[0;31mAttributeError\u001b[0m                            Traceback (most recent call last)",
      "Cell \u001b[0;32mIn[1], line 4\u001b[0m\n\u001b[1;32m      1\u001b[0m get_ipython()\u001b[38;5;241m.\u001b[39mrun_line_magic(\u001b[38;5;124m'\u001b[39m\u001b[38;5;124mmatplotlib\u001b[39m\u001b[38;5;124m'\u001b[39m, \u001b[38;5;124m'\u001b[39m\u001b[38;5;124mnotebook\u001b[39m\u001b[38;5;124m'\u001b[39m)\n\u001b[1;32m      3\u001b[0m \u001b[38;5;28;01mimport\u001b[39;00m \u001b[38;5;21;01mpycinema\u001b[39;00m\n\u001b[0;32m----> 4\u001b[0m viewer \u001b[38;5;241m=\u001b[39m \u001b[43mpycinema\u001b[49m\u001b[38;5;241;43m.\u001b[39;49m\u001b[43mLineAOViewer\u001b[49m\u001b[43m(\u001b[49m\u001b[38;5;124;43m'\u001b[39;49m\u001b[38;5;124;43m../data/ScalarImages.cdb\u001b[39;49m\u001b[38;5;124;43m'\u001b[39;49m\u001b[43m)\u001b[49m\n",
      "File \u001b[0;32m~/Documents/phd/BAs/rieseberg/pycinema/pycinema/lib/python3.11/site-packages/pycinema/LineAOViewer.py:84\u001b[0m, in \u001b[0;36mLineAOViewer.__init__\u001b[0;34m(self, path)\u001b[0m\n\u001b[1;32m     82\u001b[0m \u001b[38;5;28mself\u001b[39m\u001b[38;5;241m.\u001b[39mshaderLineAO \u001b[38;5;241m=\u001b[39m ShaderLineAO()\n\u001b[1;32m     83\u001b[0m \u001b[38;5;28mself\u001b[39m\u001b[38;5;241m.\u001b[39mshaderLineAO\u001b[38;5;241m.\u001b[39minputs\u001b[38;5;241m.\u001b[39mimages\u001b[38;5;241m.\u001b[39mset(\u001b[38;5;28mself\u001b[39m\u001b[38;5;241m.\u001b[39mshaderIBS\u001b[38;5;241m.\u001b[39moutputs\u001b[38;5;241m.\u001b[39mimages,\u001b[38;5;28;01mFalse\u001b[39;00m)\n\u001b[0;32m---> 84\u001b[0m \u001b[38;5;28;43mself\u001b[39;49m\u001b[38;5;241;43m.\u001b[39;49m\u001b[43mshadingWidgetsContainer\u001b[49m\u001b[38;5;241;43m.\u001b[39;49m\u001b[43mchildren\u001b[49m\u001b[38;5;241;43m.\u001b[39;49m\u001b[43mappend\u001b[49m([ \u001b[38;5;66;03m# TODO: change to parameters we actually need\u001b[39;00m\n\u001b[1;32m     85\u001b[0m     NumberWidget(\u001b[38;5;28mself\u001b[39m\u001b[38;5;241m.\u001b[39mshaderLineAO\u001b[38;5;241m.\u001b[39minputs\u001b[38;5;241m.\u001b[39mradius, \u001b[38;5;28mrange\u001b[39m\u001b[38;5;241m=\u001b[39m[\u001b[38;5;241m0\u001b[39m,\u001b[38;5;241m1\u001b[39m,\u001b[38;5;241m0.01\u001b[39m])\u001b[38;5;241m.\u001b[39mwidget,\n\u001b[1;32m     86\u001b[0m     NumberWidget(\u001b[38;5;28mself\u001b[39m\u001b[38;5;241m.\u001b[39mshaderLineAO\u001b[38;5;241m.\u001b[39minputs\u001b[38;5;241m.\u001b[39msamples, \u001b[38;5;28mrange\u001b[39m\u001b[38;5;241m=\u001b[39m[\u001b[38;5;241m1\u001b[39m,\u001b[38;5;241m256\u001b[39m,\u001b[38;5;241m1\u001b[39m])\u001b[38;5;241m.\u001b[39mwidget,\n\u001b[1;32m     87\u001b[0m     NumberWidget(\u001b[38;5;28mself\u001b[39m\u001b[38;5;241m.\u001b[39mshaderLineAO\u001b[38;5;241m.\u001b[39minputs\u001b[38;5;241m.\u001b[39msilhouette, \u001b[38;5;28mrange\u001b[39m\u001b[38;5;241m=\u001b[39m[\u001b[38;5;241m0.01\u001b[39m,\u001b[38;5;241m1\u001b[39m,\u001b[38;5;241m0.01\u001b[39m])\u001b[38;5;241m.\u001b[39mwidget,\n\u001b[1;32m     88\u001b[0m     NumberWidget(\u001b[38;5;28mself\u001b[39m\u001b[38;5;241m.\u001b[39mshaderLineAO\u001b[38;5;241m.\u001b[39minputs\u001b[38;5;241m.\u001b[39mluminance, \u001b[38;5;28mrange\u001b[39m\u001b[38;5;241m=\u001b[39m[\u001b[38;5;241m0\u001b[39m,\u001b[38;5;241m2\u001b[39m,\u001b[38;5;241m0.01\u001b[39m])\u001b[38;5;241m.\u001b[39mwidget,\n\u001b[1;32m     89\u001b[0m     NumberWidget(\u001b[38;5;28mself\u001b[39m\u001b[38;5;241m.\u001b[39mshaderLineAO\u001b[38;5;241m.\u001b[39minputs\u001b[38;5;241m.\u001b[39mambient, \u001b[38;5;28mrange\u001b[39m\u001b[38;5;241m=\u001b[39m[\u001b[38;5;241m0\u001b[39m,\u001b[38;5;241m2\u001b[39m,\u001b[38;5;241m0.01\u001b[39m])\u001b[38;5;241m.\u001b[39mwidget,\n\u001b[1;32m     90\u001b[0m ])\n\u001b[1;32m     93\u001b[0m \u001b[38;5;28mself\u001b[39m\u001b[38;5;241m.\u001b[39mannotation \u001b[38;5;241m=\u001b[39m Annotation()\n\u001b[1;32m     94\u001b[0m \u001b[38;5;28mself\u001b[39m\u001b[38;5;241m.\u001b[39mannotation\u001b[38;5;241m.\u001b[39minputs\u001b[38;5;241m.\u001b[39mimages\u001b[38;5;241m.\u001b[39mset(\u001b[38;5;28mself\u001b[39m\u001b[38;5;241m.\u001b[39mshaderLineAO\u001b[38;5;241m.\u001b[39moutputs\u001b[38;5;241m.\u001b[39mimages,\u001b[38;5;28;01mFalse\u001b[39;00m)\n",
      "\u001b[0;31mAttributeError\u001b[0m: 'tuple' object has no attribute 'append'"
     ]
    }
   ],
   "source": [
    "%matplotlib notebook\n",
    "\n",
    "import pycinema\n",
    "viewer = pycinema.LineAOViewer('../data/ScalarImages.cdb')"
   ]
  },
  {
   "cell_type": "code",
   "execution_count": null,
   "id": "c5095aec-5547-4d27-9684-dffafad138f7",
   "metadata": {},
   "outputs": [],
   "source": []
  }
 ],
 "metadata": {
  "kernelspec": {
   "display_name": "Python 3 (ipykernel)",
   "language": "python",
   "name": "python3"
  },
  "language_info": {
   "codemirror_mode": {
    "name": "ipython",
    "version": 3
   },
   "file_extension": ".py",
   "mimetype": "text/x-python",
   "name": "python",
   "nbconvert_exporter": "python",
   "pygments_lexer": "ipython3",
   "version": "3.11.2"
  }
 },
 "nbformat": 4,
 "nbformat_minor": 5
}
