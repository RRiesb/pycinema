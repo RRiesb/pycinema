{
 "cells": [
  {
   "cell_type": "code",
   "execution_count": null,
   "id": "0b1d7e8c",
   "metadata": {},
   "outputs": [],
   "source": [
    "%matplotlib notebook\n",
    "import pycinema\n",
    "\n",
    "## You will need to install PyTorch to be able to run this example.\n",
    "## Please use this link to install Pytorch: https://pytorch.org/get-started/locally/\n",
    "## Or you can try: pip3 install torch torchvision\n",
    "\n",
    "#############################\n",
    "## This example demonstrates how we can use CNN-based ML model trained on a time varying data with \n",
    "## phi, theta, and time steps as input parameters. some time steps are skipped during training\n",
    "## After training, any timestep within the trained time window can be used as input \n",
    "## to generate image-based visualizations along with any phi and theta values for unknown input parameters\n",
    "## trained phi range: -90 to 90, theta range: 0 to 360, time window: 1 to 20.\n",
    "## We trained the model using time steps: 1,3,5,7,...19 with 1000 images from each time step with random \n",
    "## ohi and theta values. Now we can query any value of phi, theta and time within the above ranges.\n",
    "#############################\n",
    "\n",
    "## Create the instance of the filter\n",
    "mlfilter = pycinema.ImageGeneratorCNN()\n",
    "\n",
    "## Set input params same as was used during training\n",
    "######################################\n",
    "\n",
    "## Input trained model file\n",
    "mlfilter.inputs.Model.set('../data/MLModels/Model_MLImageGenerator_Isabel_timevarying_2000.pth',False)\n",
    "mlfilter.inputs.Device.set('cpu',False)\n",
    "## Phi,Theta, Timestep value for which the image will be generated\n",
    "mlfilter.inputs.Params.set([[-10,5.0,3]],False)\n",
    "## number of input parameter in training set, in this case, 2 (phi and theta)\n",
    "mlfilter.inputs.VP.set(3,False)\n",
    "## Internal parameter for CNN, should be the same as was used during training\n",
    "mlfilter.inputs.VPO.set(256,False)\n",
    "## Internal parameter for CNN, should be the same as was used during training\n",
    "mlfilter.inputs.Channel.set(8,False)\n",
    "mlfilter.update()\n",
    "\n",
    "# Display Results\n",
    "image_viewer = pycinema.ImageViewer()\n",
    "image_viewer.inputs.images.set( mlfilter.outputs.Images )"
   ]
  }
 ],
 "metadata": {
  "kernelspec": {
   "display_name": "Python 3 (ipykernel)",
   "language": "python",
   "name": "python3"
  },
  "language_info": {
   "codemirror_mode": {
    "name": "ipython",
    "version": 3
   },
   "file_extension": ".py",
   "mimetype": "text/x-python",
   "name": "python",
   "nbconvert_exporter": "python",
   "pygments_lexer": "ipython3",
   "version": "3.8.15"
  }
 },
 "nbformat": 4,
 "nbformat_minor": 5
}
